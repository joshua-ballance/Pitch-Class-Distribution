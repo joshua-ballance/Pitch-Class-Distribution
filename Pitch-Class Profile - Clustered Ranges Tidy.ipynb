{
 "cells": [
  {
   "cell_type": "markdown",
   "metadata": {},
   "source": [
    "# Figure 2\n",
    "Hover over any point on the plot to view detailed data."
   ]
  },
  {
   "cell_type": "code",
   "execution_count": 17,
   "metadata": {},
   "outputs": [
    {
     "data": {
      "text/html": [
       "        <script type=\"text/javascript\">\n",
       "        window.PlotlyConfig = {MathJaxConfig: 'local'};\n",
       "        if (window.MathJax) {MathJax.Hub.Config({SVG: {font: \"STIX-Web\"}});}\n",
       "        if (typeof require !== 'undefined') {\n",
       "        require.undef(\"plotly\");\n",
       "        requirejs.config({\n",
       "            paths: {\n",
       "                'plotly': ['https://cdn.plot.ly/plotly-latest.min']\n",
       "            }\n",
       "        });\n",
       "        require(['plotly'], function(Plotly) {\n",
       "            window._Plotly = Plotly;\n",
       "        });\n",
       "        }\n",
       "        </script>\n",
       "        "
      ]
     },
     "metadata": {},
     "output_type": "display_data"
    },
    {
     "data": {
      "application/vnd.plotly.v1+json": {
       "config": {
        "plotlyServerURL": "https://plot.ly"
       },
       "data": [
        {
         "marker": {
          "color": "rgb(3,199,45)"
         },
         "mode": "markers",
         "name": "Cluster 1",
         "type": "scatter",
         "x": [
          "Op. 1",
          "Op. 2",
          "Op. 3 i",
          "Op. 3 ii",
          "Op. 3 iii",
          "Op. 3 iv",
          "Op. 3 v",
          "Op. 4 i",
          "Op. 4 ii",
          "Op. 4 iii",
          "Op. 4 iv",
          "Op. 4 v",
          "Op. 5 i",
          "Op. 5 ii",
          "Op. 5 iii",
          "Op. 5 iv",
          "Op. 5 v",
          "Op. 6 i",
          "Op. 6 ii",
          "Op. 6 iii",
          "Op. 6 iv",
          "Op. 6 v",
          "Op. 6 vi",
          "Op. 7 i",
          "Op. 7 ii",
          "Op. 7 iii",
          "Op. 7 iv",
          "Op. 8 i",
          "Op. 8 ii",
          "Op. 10 i"
         ],
         "y": [
          9.40218298476682,
          13.524108826930402,
          12.1659353809334,
          6.78624329404151,
          8.362779740871611,
          6.60835762876579,
          11.123511904761902,
          10.914364219203101,
          7.96660136250358,
          7.442632850241551,
          10.1196603190942,
          9.0640575964556,
          3.82570755680197,
          9.48121645796064,
          16.3388949255126,
          16.030977734753098,
          14.4237039452233,
          11.2122557726465,
          8.715219487802269,
          15.5943293347873,
          8.48623853211007,
          6.129375411579959,
          15.438596491228099,
          13.363533408833499,
          6.514360495662991,
          10.9904153354633,
          10.521744165846302,
          9.287257019438439,
          9.23066639930485,
          21.680216802168
         ]
        },
        {
         "marker": {
          "color": "rgb(75,0,255)"
         },
         "mode": "markers",
         "name": "Cluster 2",
         "type": "scatter",
         "x": [
          "Op. 9 iii",
          "Op. 9 iv",
          "Op. 9 v",
          "Op. 9 vi",
          "Op. 10 ii",
          "Op. 9 i"
         ],
         "y": [
          11.1278195488722,
          12.2448979591837,
          10.5785123966942,
          9.23295454545455,
          9.008307372793348,
          8.54491450051182
         ]
        },
        {
         "marker": {
          "color": "rgb(255,255,0)"
         },
         "mode": "markers",
         "name": "Two Anomalies",
         "type": "scatter",
         "x": [
          "Op. 10 iv",
          "Op. 10 iii"
         ],
         "y": [
          17.7777777777778,
          27.3553075525565
         ]
        },
        {
         "marker": {
          "color": "rgb(0,0,0)"
         },
         "mode": "markers",
         "name": "Cluster 3",
         "type": "scatter",
         "x": [
          "Op. 9 ii",
          "Op. 10 v",
          "Op. 13 ii",
          "Op. 11 i",
          "Op. 11 ii",
          "Op. 11 iii",
          "Op. 12 i",
          "Op. 12 iii",
          "Op. 12 iv",
          "Op. 12 ii",
          "Op. 13 i",
          "Op. 14 iv",
          "Op. 13 iii",
          "Op. 15 v",
          "Op. 13 iv",
          "Op. 14 iii",
          "Op. 14 vi",
          "Op. 14 v",
          "Op. 14 ii",
          "Op. 14 i",
          "Op. 15 i",
          "Op. 15 iii",
          "Op. 15 ii",
          "Op. 15 iv",
          "Op. 16 ii",
          "Op. 16 iii",
          "Op. 16 iv",
          "Op. 17 i",
          "Op. 16 v",
          "Op. 16 i"
         ],
         "y": [
          8.91169322171212,
          7.01754385964915,
          6.87245515571694,
          8.208955223880599,
          8.8135593220339,
          11.913357400722001,
          4.642349597347231,
          2.73746750290087,
          3.31286774111026,
          4.36335496160486,
          7.5896184269216596,
          4.93013374009207,
          6.7791157275484695,
          5.3388090349076,
          3.9234537380396404,
          2.57672005010289,
          6.737952248425371,
          4.33532900826742,
          3.21959078459804,
          4.96529195590036,
          3.1586431037984903,
          4.2206713193752,
          5.536668285575531,
          7.142857142857139,
          8.75576036866359,
          3.20232896652111,
          7.39604274679929,
          7.383512544802869,
          5.13516704049108,
          11.345029239766099
         ]
        },
        {
         "marker": {
          "color": "rgb(199,45,3)"
         },
         "mode": "markers",
         "name": "Cluster 4",
         "type": "scatter",
         "x": [
          "Op. 17 iii",
          "Op. 17 ii",
          "Op. 18 i",
          "Op. 18 ii",
          "Op. 18 iii",
          "Op. 19 i",
          "Op. 19 ii",
          "Op. 20 ii",
          "Op. 20 i",
          "Op. 21 ii",
          "Op. 21 i",
          "Op. 22 ii",
          "Op. 22 i",
          "Op. 23 iii",
          "Op. 23 ii",
          "Op. 23 i",
          "Op. 24 i",
          "Op. 25 i",
          "Op. 24 ii",
          "Op. 24 iii",
          "Op. 25 iii",
          "Op. 25 ii",
          "Op. 26",
          "Op. 27 ii",
          "Op. 27 iii",
          "Op. 27 i",
          "Op. 28 ii",
          "Op. 28 iii",
          "Op. 28 i",
          "Op. 29 ii",
          "Op. 29 i",
          "Op. 29 iii",
          "Op. 30",
          "Op. 31 iv",
          "Op. 31 v",
          "Op. 31 vi",
          "Op. 31 i",
          "Op. 31 ii",
          "Op. 31 iii"
         ],
         "y": [
          6.06621427102612,
          4.6946916231973,
          5.42955326460482,
          2.1266217929958,
          2.43577314590402,
          2.83828382838283,
          4.392470051340561,
          2.88653972039839,
          7.10905553357074,
          5.360861928645121,
          10.5075690115762,
          3.4617661568395603,
          4.84848484848491,
          4.00654547314055,
          3.62029752805637,
          2.72099186068522,
          3.88527676269122,
          3.97489539748954,
          5.45977011494253,
          2.98897602000229,
          4.38610860840363,
          2.66033254156769,
          5.248859894788611,
          9.63855421686747,
          4.61496719451433,
          3.1021897810219,
          2.00905208495907,
          2.33878901708255,
          1.96370458695198,
          3.4254452768021,
          6.76201328042119,
          1.92972683926741,
          2.85211097930546,
          8.23442136498516,
          4.84624846248464,
          6.393861892583111,
          8.152282855661111,
          5.563909774436071,
          2.52674536127692
         ]
        }
       ],
       "layout": {
        "font": {
         "color": "rgb(0,0,0)",
         "family": "Times New Roman, monospace",
         "size": 12
        },
        "template": {
         "data": {
          "bar": [
           {
            "error_x": {
             "color": "#2a3f5f"
            },
            "error_y": {
             "color": "#2a3f5f"
            },
            "marker": {
             "line": {
              "color": "#E5ECF6",
              "width": 0.5
             }
            },
            "type": "bar"
           }
          ],
          "barpolar": [
           {
            "marker": {
             "line": {
              "color": "#E5ECF6",
              "width": 0.5
             }
            },
            "type": "barpolar"
           }
          ],
          "carpet": [
           {
            "aaxis": {
             "endlinecolor": "#2a3f5f",
             "gridcolor": "white",
             "linecolor": "white",
             "minorgridcolor": "white",
             "startlinecolor": "#2a3f5f"
            },
            "baxis": {
             "endlinecolor": "#2a3f5f",
             "gridcolor": "white",
             "linecolor": "white",
             "minorgridcolor": "white",
             "startlinecolor": "#2a3f5f"
            },
            "type": "carpet"
           }
          ],
          "choropleth": [
           {
            "colorbar": {
             "outlinewidth": 0,
             "ticks": ""
            },
            "type": "choropleth"
           }
          ],
          "contour": [
           {
            "colorbar": {
             "outlinewidth": 0,
             "ticks": ""
            },
            "colorscale": [
             [
              0,
              "#0d0887"
             ],
             [
              0.1111111111111111,
              "#46039f"
             ],
             [
              0.2222222222222222,
              "#7201a8"
             ],
             [
              0.3333333333333333,
              "#9c179e"
             ],
             [
              0.4444444444444444,
              "#bd3786"
             ],
             [
              0.5555555555555556,
              "#d8576b"
             ],
             [
              0.6666666666666666,
              "#ed7953"
             ],
             [
              0.7777777777777778,
              "#fb9f3a"
             ],
             [
              0.8888888888888888,
              "#fdca26"
             ],
             [
              1,
              "#f0f921"
             ]
            ],
            "type": "contour"
           }
          ],
          "contourcarpet": [
           {
            "colorbar": {
             "outlinewidth": 0,
             "ticks": ""
            },
            "type": "contourcarpet"
           }
          ],
          "heatmap": [
           {
            "colorbar": {
             "outlinewidth": 0,
             "ticks": ""
            },
            "colorscale": [
             [
              0,
              "#0d0887"
             ],
             [
              0.1111111111111111,
              "#46039f"
             ],
             [
              0.2222222222222222,
              "#7201a8"
             ],
             [
              0.3333333333333333,
              "#9c179e"
             ],
             [
              0.4444444444444444,
              "#bd3786"
             ],
             [
              0.5555555555555556,
              "#d8576b"
             ],
             [
              0.6666666666666666,
              "#ed7953"
             ],
             [
              0.7777777777777778,
              "#fb9f3a"
             ],
             [
              0.8888888888888888,
              "#fdca26"
             ],
             [
              1,
              "#f0f921"
             ]
            ],
            "type": "heatmap"
           }
          ],
          "heatmapgl": [
           {
            "colorbar": {
             "outlinewidth": 0,
             "ticks": ""
            },
            "colorscale": [
             [
              0,
              "#0d0887"
             ],
             [
              0.1111111111111111,
              "#46039f"
             ],
             [
              0.2222222222222222,
              "#7201a8"
             ],
             [
              0.3333333333333333,
              "#9c179e"
             ],
             [
              0.4444444444444444,
              "#bd3786"
             ],
             [
              0.5555555555555556,
              "#d8576b"
             ],
             [
              0.6666666666666666,
              "#ed7953"
             ],
             [
              0.7777777777777778,
              "#fb9f3a"
             ],
             [
              0.8888888888888888,
              "#fdca26"
             ],
             [
              1,
              "#f0f921"
             ]
            ],
            "type": "heatmapgl"
           }
          ],
          "histogram": [
           {
            "marker": {
             "colorbar": {
              "outlinewidth": 0,
              "ticks": ""
             }
            },
            "type": "histogram"
           }
          ],
          "histogram2d": [
           {
            "colorbar": {
             "outlinewidth": 0,
             "ticks": ""
            },
            "colorscale": [
             [
              0,
              "#0d0887"
             ],
             [
              0.1111111111111111,
              "#46039f"
             ],
             [
              0.2222222222222222,
              "#7201a8"
             ],
             [
              0.3333333333333333,
              "#9c179e"
             ],
             [
              0.4444444444444444,
              "#bd3786"
             ],
             [
              0.5555555555555556,
              "#d8576b"
             ],
             [
              0.6666666666666666,
              "#ed7953"
             ],
             [
              0.7777777777777778,
              "#fb9f3a"
             ],
             [
              0.8888888888888888,
              "#fdca26"
             ],
             [
              1,
              "#f0f921"
             ]
            ],
            "type": "histogram2d"
           }
          ],
          "histogram2dcontour": [
           {
            "colorbar": {
             "outlinewidth": 0,
             "ticks": ""
            },
            "colorscale": [
             [
              0,
              "#0d0887"
             ],
             [
              0.1111111111111111,
              "#46039f"
             ],
             [
              0.2222222222222222,
              "#7201a8"
             ],
             [
              0.3333333333333333,
              "#9c179e"
             ],
             [
              0.4444444444444444,
              "#bd3786"
             ],
             [
              0.5555555555555556,
              "#d8576b"
             ],
             [
              0.6666666666666666,
              "#ed7953"
             ],
             [
              0.7777777777777778,
              "#fb9f3a"
             ],
             [
              0.8888888888888888,
              "#fdca26"
             ],
             [
              1,
              "#f0f921"
             ]
            ],
            "type": "histogram2dcontour"
           }
          ],
          "mesh3d": [
           {
            "colorbar": {
             "outlinewidth": 0,
             "ticks": ""
            },
            "type": "mesh3d"
           }
          ],
          "parcoords": [
           {
            "line": {
             "colorbar": {
              "outlinewidth": 0,
              "ticks": ""
             }
            },
            "type": "parcoords"
           }
          ],
          "pie": [
           {
            "automargin": true,
            "type": "pie"
           }
          ],
          "scatter": [
           {
            "marker": {
             "colorbar": {
              "outlinewidth": 0,
              "ticks": ""
             }
            },
            "type": "scatter"
           }
          ],
          "scatter3d": [
           {
            "line": {
             "colorbar": {
              "outlinewidth": 0,
              "ticks": ""
             }
            },
            "marker": {
             "colorbar": {
              "outlinewidth": 0,
              "ticks": ""
             }
            },
            "type": "scatter3d"
           }
          ],
          "scattercarpet": [
           {
            "marker": {
             "colorbar": {
              "outlinewidth": 0,
              "ticks": ""
             }
            },
            "type": "scattercarpet"
           }
          ],
          "scattergeo": [
           {
            "marker": {
             "colorbar": {
              "outlinewidth": 0,
              "ticks": ""
             }
            },
            "type": "scattergeo"
           }
          ],
          "scattergl": [
           {
            "marker": {
             "colorbar": {
              "outlinewidth": 0,
              "ticks": ""
             }
            },
            "type": "scattergl"
           }
          ],
          "scattermapbox": [
           {
            "marker": {
             "colorbar": {
              "outlinewidth": 0,
              "ticks": ""
             }
            },
            "type": "scattermapbox"
           }
          ],
          "scatterpolar": [
           {
            "marker": {
             "colorbar": {
              "outlinewidth": 0,
              "ticks": ""
             }
            },
            "type": "scatterpolar"
           }
          ],
          "scatterpolargl": [
           {
            "marker": {
             "colorbar": {
              "outlinewidth": 0,
              "ticks": ""
             }
            },
            "type": "scatterpolargl"
           }
          ],
          "scatterternary": [
           {
            "marker": {
             "colorbar": {
              "outlinewidth": 0,
              "ticks": ""
             }
            },
            "type": "scatterternary"
           }
          ],
          "surface": [
           {
            "colorbar": {
             "outlinewidth": 0,
             "ticks": ""
            },
            "colorscale": [
             [
              0,
              "#0d0887"
             ],
             [
              0.1111111111111111,
              "#46039f"
             ],
             [
              0.2222222222222222,
              "#7201a8"
             ],
             [
              0.3333333333333333,
              "#9c179e"
             ],
             [
              0.4444444444444444,
              "#bd3786"
             ],
             [
              0.5555555555555556,
              "#d8576b"
             ],
             [
              0.6666666666666666,
              "#ed7953"
             ],
             [
              0.7777777777777778,
              "#fb9f3a"
             ],
             [
              0.8888888888888888,
              "#fdca26"
             ],
             [
              1,
              "#f0f921"
             ]
            ],
            "type": "surface"
           }
          ],
          "table": [
           {
            "cells": {
             "fill": {
              "color": "#EBF0F8"
             },
             "line": {
              "color": "white"
             }
            },
            "header": {
             "fill": {
              "color": "#C8D4E3"
             },
             "line": {
              "color": "white"
             }
            },
            "type": "table"
           }
          ]
         },
         "layout": {
          "annotationdefaults": {
           "arrowcolor": "#2a3f5f",
           "arrowhead": 0,
           "arrowwidth": 1
          },
          "coloraxis": {
           "colorbar": {
            "outlinewidth": 0,
            "ticks": ""
           }
          },
          "colorscale": {
           "diverging": [
            [
             0,
             "#8e0152"
            ],
            [
             0.1,
             "#c51b7d"
            ],
            [
             0.2,
             "#de77ae"
            ],
            [
             0.3,
             "#f1b6da"
            ],
            [
             0.4,
             "#fde0ef"
            ],
            [
             0.5,
             "#f7f7f7"
            ],
            [
             0.6,
             "#e6f5d0"
            ],
            [
             0.7,
             "#b8e186"
            ],
            [
             0.8,
             "#7fbc41"
            ],
            [
             0.9,
             "#4d9221"
            ],
            [
             1,
             "#276419"
            ]
           ],
           "sequential": [
            [
             0,
             "#0d0887"
            ],
            [
             0.1111111111111111,
             "#46039f"
            ],
            [
             0.2222222222222222,
             "#7201a8"
            ],
            [
             0.3333333333333333,
             "#9c179e"
            ],
            [
             0.4444444444444444,
             "#bd3786"
            ],
            [
             0.5555555555555556,
             "#d8576b"
            ],
            [
             0.6666666666666666,
             "#ed7953"
            ],
            [
             0.7777777777777778,
             "#fb9f3a"
            ],
            [
             0.8888888888888888,
             "#fdca26"
            ],
            [
             1,
             "#f0f921"
            ]
           ],
           "sequentialminus": [
            [
             0,
             "#0d0887"
            ],
            [
             0.1111111111111111,
             "#46039f"
            ],
            [
             0.2222222222222222,
             "#7201a8"
            ],
            [
             0.3333333333333333,
             "#9c179e"
            ],
            [
             0.4444444444444444,
             "#bd3786"
            ],
            [
             0.5555555555555556,
             "#d8576b"
            ],
            [
             0.6666666666666666,
             "#ed7953"
            ],
            [
             0.7777777777777778,
             "#fb9f3a"
            ],
            [
             0.8888888888888888,
             "#fdca26"
            ],
            [
             1,
             "#f0f921"
            ]
           ]
          },
          "colorway": [
           "#636efa",
           "#EF553B",
           "#00cc96",
           "#ab63fa",
           "#FFA15A",
           "#19d3f3",
           "#FF6692",
           "#B6E880",
           "#FF97FF",
           "#FECB52"
          ],
          "font": {
           "color": "#2a3f5f"
          },
          "geo": {
           "bgcolor": "white",
           "lakecolor": "white",
           "landcolor": "#E5ECF6",
           "showlakes": true,
           "showland": true,
           "subunitcolor": "white"
          },
          "hoverlabel": {
           "align": "left"
          },
          "hovermode": "closest",
          "mapbox": {
           "style": "light"
          },
          "paper_bgcolor": "white",
          "plot_bgcolor": "#E5ECF6",
          "polar": {
           "angularaxis": {
            "gridcolor": "white",
            "linecolor": "white",
            "ticks": ""
           },
           "bgcolor": "#E5ECF6",
           "radialaxis": {
            "gridcolor": "white",
            "linecolor": "white",
            "ticks": ""
           }
          },
          "scene": {
           "xaxis": {
            "backgroundcolor": "#E5ECF6",
            "gridcolor": "white",
            "gridwidth": 2,
            "linecolor": "white",
            "showbackground": true,
            "ticks": "",
            "zerolinecolor": "white"
           },
           "yaxis": {
            "backgroundcolor": "#E5ECF6",
            "gridcolor": "white",
            "gridwidth": 2,
            "linecolor": "white",
            "showbackground": true,
            "ticks": "",
            "zerolinecolor": "white"
           },
           "zaxis": {
            "backgroundcolor": "#E5ECF6",
            "gridcolor": "white",
            "gridwidth": 2,
            "linecolor": "white",
            "showbackground": true,
            "ticks": "",
            "zerolinecolor": "white"
           }
          },
          "shapedefaults": {
           "line": {
            "color": "#2a3f5f"
           }
          },
          "ternary": {
           "aaxis": {
            "gridcolor": "white",
            "linecolor": "white",
            "ticks": ""
           },
           "baxis": {
            "gridcolor": "white",
            "linecolor": "white",
            "ticks": ""
           },
           "bgcolor": "#E5ECF6",
           "caxis": {
            "gridcolor": "white",
            "linecolor": "white",
            "ticks": ""
           }
          },
          "title": {
           "x": 0.05
          },
          "xaxis": {
           "automargin": true,
           "gridcolor": "white",
           "linecolor": "white",
           "ticks": "",
           "title": {
            "standoff": 15
           },
           "zerolinecolor": "white",
           "zerolinewidth": 2
          },
          "yaxis": {
           "automargin": true,
           "gridcolor": "white",
           "linecolor": "white",
           "ticks": "",
           "title": {
            "standoff": 15
           },
           "zerolinecolor": "white",
           "zerolinewidth": 2
          }
         }
        },
        "xaxis": {
         "range": [
          -1,
          107
         ],
         "title": {
          "text": "Movement"
         }
        },
        "yaxis": {
         "title": {
          "text": "Range (%)"
         }
        }
       }
      },
      "text/html": [
       "<div>\n",
       "        \n",
       "        \n",
       "            <div id=\"9142f616-17a7-4e6c-97a6-8001b79d3ea3\" class=\"plotly-graph-div\" style=\"height:525px; width:100%;\"></div>\n",
       "            <script type=\"text/javascript\">\n",
       "                require([\"plotly\"], function(Plotly) {\n",
       "                    window.PLOTLYENV=window.PLOTLYENV || {};\n",
       "                    \n",
       "                if (document.getElementById(\"9142f616-17a7-4e6c-97a6-8001b79d3ea3\")) {\n",
       "                    Plotly.newPlot(\n",
       "                        '9142f616-17a7-4e6c-97a6-8001b79d3ea3',\n",
       "                        [{\"marker\": {\"color\": \"rgb(3,199,45)\"}, \"mode\": \"markers\", \"name\": \"Cluster 1\", \"type\": \"scatter\", \"x\": [\"Op. 1\", \"Op. 2\", \"Op. 3 i\", \"Op. 3 ii\", \"Op. 3 iii\", \"Op. 3 iv\", \"Op. 3 v\", \"Op. 4 i\", \"Op. 4 ii\", \"Op. 4 iii\", \"Op. 4 iv\", \"Op. 4 v\", \"Op. 5 i\", \"Op. 5 ii\", \"Op. 5 iii\", \"Op. 5 iv\", \"Op. 5 v\", \"Op. 6 i\", \"Op. 6 ii\", \"Op. 6 iii\", \"Op. 6 iv\", \"Op. 6 v\", \"Op. 6 vi\", \"Op. 7 i\", \"Op. 7 ii\", \"Op. 7 iii\", \"Op. 7 iv\", \"Op. 8 i\", \"Op. 8 ii\", \"Op. 10 i\"], \"y\": [9.40218298476682, 13.524108826930402, 12.1659353809334, 6.78624329404151, 8.362779740871611, 6.60835762876579, 11.123511904761902, 10.914364219203101, 7.96660136250358, 7.442632850241551, 10.1196603190942, 9.0640575964556, 3.82570755680197, 9.48121645796064, 16.3388949255126, 16.030977734753098, 14.4237039452233, 11.2122557726465, 8.715219487802269, 15.5943293347873, 8.48623853211007, 6.129375411579959, 15.438596491228099, 13.363533408833499, 6.514360495662991, 10.9904153354633, 10.521744165846302, 9.287257019438439, 9.23066639930485, 21.680216802168]}, {\"marker\": {\"color\": \"rgb(75,0,255)\"}, \"mode\": \"markers\", \"name\": \"Cluster 2\", \"type\": \"scatter\", \"x\": [\"Op. 9 iii\", \"Op. 9 iv\", \"Op. 9 v\", \"Op. 9 vi\", \"Op. 10 ii\", \"Op. 9 i\"], \"y\": [11.1278195488722, 12.2448979591837, 10.5785123966942, 9.23295454545455, 9.008307372793348, 8.54491450051182]}, {\"marker\": {\"color\": \"rgb(255,255,0)\"}, \"mode\": \"markers\", \"name\": \"Two Anomalies\", \"type\": \"scatter\", \"x\": [\"Op. 10 iv\", \"Op. 10 iii\"], \"y\": [17.7777777777778, 27.3553075525565]}, {\"marker\": {\"color\": \"rgb(0,0,0)\"}, \"mode\": \"markers\", \"name\": \"Cluster 3\", \"type\": \"scatter\", \"x\": [\"Op. 9 ii\", \"Op. 10 v\", \"Op. 13 ii\", \"Op. 11 i\", \"Op. 11 ii\", \"Op. 11 iii\", \"Op. 12 i\", \"Op. 12 iii\", \"Op. 12 iv\", \"Op. 12 ii\", \"Op. 13 i\", \"Op. 14 iv\", \"Op. 13 iii\", \"Op. 15 v\", \"Op. 13 iv\", \"Op. 14 iii\", \"Op. 14 vi\", \"Op. 14 v\", \"Op. 14 ii\", \"Op. 14 i\", \"Op. 15 i\", \"Op. 15 iii\", \"Op. 15 ii\", \"Op. 15 iv\", \"Op. 16 ii\", \"Op. 16 iii\", \"Op. 16 iv\", \"Op. 17 i\", \"Op. 16 v\", \"Op. 16 i\"], \"y\": [8.91169322171212, 7.01754385964915, 6.87245515571694, 8.208955223880599, 8.8135593220339, 11.913357400722001, 4.642349597347231, 2.73746750290087, 3.31286774111026, 4.36335496160486, 7.5896184269216596, 4.93013374009207, 6.7791157275484695, 5.3388090349076, 3.9234537380396404, 2.57672005010289, 6.737952248425371, 4.33532900826742, 3.21959078459804, 4.96529195590036, 3.1586431037984903, 4.2206713193752, 5.536668285575531, 7.142857142857139, 8.75576036866359, 3.20232896652111, 7.39604274679929, 7.383512544802869, 5.13516704049108, 11.345029239766099]}, {\"marker\": {\"color\": \"rgb(199,45,3)\"}, \"mode\": \"markers\", \"name\": \"Cluster 4\", \"type\": \"scatter\", \"x\": [\"Op. 17 iii\", \"Op. 17 ii\", \"Op. 18 i\", \"Op. 18 ii\", \"Op. 18 iii\", \"Op. 19 i\", \"Op. 19 ii\", \"Op. 20 ii\", \"Op. 20 i\", \"Op. 21 ii\", \"Op. 21 i\", \"Op. 22 ii\", \"Op. 22 i\", \"Op. 23 iii\", \"Op. 23 ii\", \"Op. 23 i\", \"Op. 24 i\", \"Op. 25 i\", \"Op. 24 ii\", \"Op. 24 iii\", \"Op. 25 iii\", \"Op. 25 ii\", \"Op. 26\", \"Op. 27 ii\", \"Op. 27 iii\", \"Op. 27 i\", \"Op. 28 ii\", \"Op. 28 iii\", \"Op. 28 i\", \"Op. 29 ii\", \"Op. 29 i\", \"Op. 29 iii\", \"Op. 30\", \"Op. 31 iv\", \"Op. 31 v\", \"Op. 31 vi\", \"Op. 31 i\", \"Op. 31 ii\", \"Op. 31 iii\"], \"y\": [6.06621427102612, 4.6946916231973, 5.42955326460482, 2.1266217929958, 2.43577314590402, 2.83828382838283, 4.392470051340561, 2.88653972039839, 7.10905553357074, 5.360861928645121, 10.5075690115762, 3.4617661568395603, 4.84848484848491, 4.00654547314055, 3.62029752805637, 2.72099186068522, 3.88527676269122, 3.97489539748954, 5.45977011494253, 2.98897602000229, 4.38610860840363, 2.66033254156769, 5.248859894788611, 9.63855421686747, 4.61496719451433, 3.1021897810219, 2.00905208495907, 2.33878901708255, 1.96370458695198, 3.4254452768021, 6.76201328042119, 1.92972683926741, 2.85211097930546, 8.23442136498516, 4.84624846248464, 6.393861892583111, 8.152282855661111, 5.563909774436071, 2.52674536127692]}],\n",
       "                        {\"font\": {\"color\": \"rgb(0,0,0)\", \"family\": \"Times New Roman, monospace\", \"size\": 12}, \"template\": {\"data\": {\"bar\": [{\"error_x\": {\"color\": \"#2a3f5f\"}, \"error_y\": {\"color\": \"#2a3f5f\"}, \"marker\": {\"line\": {\"color\": \"#E5ECF6\", \"width\": 0.5}}, \"type\": \"bar\"}], \"barpolar\": [{\"marker\": {\"line\": {\"color\": \"#E5ECF6\", \"width\": 0.5}}, \"type\": \"barpolar\"}], \"carpet\": [{\"aaxis\": {\"endlinecolor\": \"#2a3f5f\", \"gridcolor\": \"white\", \"linecolor\": \"white\", \"minorgridcolor\": \"white\", \"startlinecolor\": \"#2a3f5f\"}, \"baxis\": {\"endlinecolor\": \"#2a3f5f\", \"gridcolor\": \"white\", \"linecolor\": \"white\", \"minorgridcolor\": \"white\", \"startlinecolor\": \"#2a3f5f\"}, \"type\": \"carpet\"}], \"choropleth\": [{\"colorbar\": {\"outlinewidth\": 0, \"ticks\": \"\"}, \"type\": \"choropleth\"}], \"contour\": [{\"colorbar\": {\"outlinewidth\": 0, \"ticks\": \"\"}, \"colorscale\": [[0.0, \"#0d0887\"], [0.1111111111111111, \"#46039f\"], [0.2222222222222222, \"#7201a8\"], [0.3333333333333333, \"#9c179e\"], [0.4444444444444444, \"#bd3786\"], [0.5555555555555556, \"#d8576b\"], [0.6666666666666666, \"#ed7953\"], [0.7777777777777778, \"#fb9f3a\"], [0.8888888888888888, \"#fdca26\"], [1.0, \"#f0f921\"]], \"type\": \"contour\"}], \"contourcarpet\": [{\"colorbar\": {\"outlinewidth\": 0, \"ticks\": \"\"}, \"type\": \"contourcarpet\"}], \"heatmap\": [{\"colorbar\": {\"outlinewidth\": 0, \"ticks\": \"\"}, \"colorscale\": [[0.0, \"#0d0887\"], [0.1111111111111111, \"#46039f\"], [0.2222222222222222, \"#7201a8\"], [0.3333333333333333, \"#9c179e\"], [0.4444444444444444, \"#bd3786\"], [0.5555555555555556, \"#d8576b\"], [0.6666666666666666, \"#ed7953\"], [0.7777777777777778, \"#fb9f3a\"], [0.8888888888888888, \"#fdca26\"], [1.0, \"#f0f921\"]], \"type\": \"heatmap\"}], \"heatmapgl\": [{\"colorbar\": {\"outlinewidth\": 0, \"ticks\": \"\"}, \"colorscale\": [[0.0, \"#0d0887\"], [0.1111111111111111, \"#46039f\"], [0.2222222222222222, \"#7201a8\"], [0.3333333333333333, \"#9c179e\"], [0.4444444444444444, \"#bd3786\"], [0.5555555555555556, \"#d8576b\"], [0.6666666666666666, \"#ed7953\"], [0.7777777777777778, \"#fb9f3a\"], [0.8888888888888888, \"#fdca26\"], [1.0, \"#f0f921\"]], \"type\": \"heatmapgl\"}], \"histogram\": [{\"marker\": {\"colorbar\": {\"outlinewidth\": 0, \"ticks\": \"\"}}, \"type\": \"histogram\"}], \"histogram2d\": [{\"colorbar\": {\"outlinewidth\": 0, \"ticks\": \"\"}, \"colorscale\": [[0.0, \"#0d0887\"], [0.1111111111111111, \"#46039f\"], [0.2222222222222222, \"#7201a8\"], [0.3333333333333333, \"#9c179e\"], [0.4444444444444444, \"#bd3786\"], [0.5555555555555556, \"#d8576b\"], [0.6666666666666666, \"#ed7953\"], [0.7777777777777778, \"#fb9f3a\"], [0.8888888888888888, \"#fdca26\"], [1.0, \"#f0f921\"]], \"type\": \"histogram2d\"}], \"histogram2dcontour\": [{\"colorbar\": {\"outlinewidth\": 0, \"ticks\": \"\"}, \"colorscale\": [[0.0, \"#0d0887\"], [0.1111111111111111, \"#46039f\"], [0.2222222222222222, \"#7201a8\"], [0.3333333333333333, \"#9c179e\"], [0.4444444444444444, \"#bd3786\"], [0.5555555555555556, \"#d8576b\"], [0.6666666666666666, \"#ed7953\"], [0.7777777777777778, \"#fb9f3a\"], [0.8888888888888888, \"#fdca26\"], [1.0, \"#f0f921\"]], \"type\": \"histogram2dcontour\"}], \"mesh3d\": [{\"colorbar\": {\"outlinewidth\": 0, \"ticks\": \"\"}, \"type\": \"mesh3d\"}], \"parcoords\": [{\"line\": {\"colorbar\": {\"outlinewidth\": 0, \"ticks\": \"\"}}, \"type\": \"parcoords\"}], \"pie\": [{\"automargin\": true, \"type\": \"pie\"}], \"scatter\": [{\"marker\": {\"colorbar\": {\"outlinewidth\": 0, \"ticks\": \"\"}}, \"type\": \"scatter\"}], \"scatter3d\": [{\"line\": {\"colorbar\": {\"outlinewidth\": 0, \"ticks\": \"\"}}, \"marker\": {\"colorbar\": {\"outlinewidth\": 0, \"ticks\": \"\"}}, \"type\": \"scatter3d\"}], \"scattercarpet\": [{\"marker\": {\"colorbar\": {\"outlinewidth\": 0, \"ticks\": \"\"}}, \"type\": \"scattercarpet\"}], \"scattergeo\": [{\"marker\": {\"colorbar\": {\"outlinewidth\": 0, \"ticks\": \"\"}}, \"type\": \"scattergeo\"}], \"scattergl\": [{\"marker\": {\"colorbar\": {\"outlinewidth\": 0, \"ticks\": \"\"}}, \"type\": \"scattergl\"}], \"scattermapbox\": [{\"marker\": {\"colorbar\": {\"outlinewidth\": 0, \"ticks\": \"\"}}, \"type\": \"scattermapbox\"}], \"scatterpolar\": [{\"marker\": {\"colorbar\": {\"outlinewidth\": 0, \"ticks\": \"\"}}, \"type\": \"scatterpolar\"}], \"scatterpolargl\": [{\"marker\": {\"colorbar\": {\"outlinewidth\": 0, \"ticks\": \"\"}}, \"type\": \"scatterpolargl\"}], \"scatterternary\": [{\"marker\": {\"colorbar\": {\"outlinewidth\": 0, \"ticks\": \"\"}}, \"type\": \"scatterternary\"}], \"surface\": [{\"colorbar\": {\"outlinewidth\": 0, \"ticks\": \"\"}, \"colorscale\": [[0.0, \"#0d0887\"], [0.1111111111111111, \"#46039f\"], [0.2222222222222222, \"#7201a8\"], [0.3333333333333333, \"#9c179e\"], [0.4444444444444444, \"#bd3786\"], [0.5555555555555556, \"#d8576b\"], [0.6666666666666666, \"#ed7953\"], [0.7777777777777778, \"#fb9f3a\"], [0.8888888888888888, \"#fdca26\"], [1.0, \"#f0f921\"]], \"type\": \"surface\"}], \"table\": [{\"cells\": {\"fill\": {\"color\": \"#EBF0F8\"}, \"line\": {\"color\": \"white\"}}, \"header\": {\"fill\": {\"color\": \"#C8D4E3\"}, \"line\": {\"color\": \"white\"}}, \"type\": \"table\"}]}, \"layout\": {\"annotationdefaults\": {\"arrowcolor\": \"#2a3f5f\", \"arrowhead\": 0, \"arrowwidth\": 1}, \"coloraxis\": {\"colorbar\": {\"outlinewidth\": 0, \"ticks\": \"\"}}, \"colorscale\": {\"diverging\": [[0, \"#8e0152\"], [0.1, \"#c51b7d\"], [0.2, \"#de77ae\"], [0.3, \"#f1b6da\"], [0.4, \"#fde0ef\"], [0.5, \"#f7f7f7\"], [0.6, \"#e6f5d0\"], [0.7, \"#b8e186\"], [0.8, \"#7fbc41\"], [0.9, \"#4d9221\"], [1, \"#276419\"]], \"sequential\": [[0.0, \"#0d0887\"], [0.1111111111111111, \"#46039f\"], [0.2222222222222222, \"#7201a8\"], [0.3333333333333333, \"#9c179e\"], [0.4444444444444444, \"#bd3786\"], [0.5555555555555556, \"#d8576b\"], [0.6666666666666666, \"#ed7953\"], [0.7777777777777778, \"#fb9f3a\"], [0.8888888888888888, \"#fdca26\"], [1.0, \"#f0f921\"]], \"sequentialminus\": [[0.0, \"#0d0887\"], [0.1111111111111111, \"#46039f\"], [0.2222222222222222, \"#7201a8\"], [0.3333333333333333, \"#9c179e\"], [0.4444444444444444, \"#bd3786\"], [0.5555555555555556, \"#d8576b\"], [0.6666666666666666, \"#ed7953\"], [0.7777777777777778, \"#fb9f3a\"], [0.8888888888888888, \"#fdca26\"], [1.0, \"#f0f921\"]]}, \"colorway\": [\"#636efa\", \"#EF553B\", \"#00cc96\", \"#ab63fa\", \"#FFA15A\", \"#19d3f3\", \"#FF6692\", \"#B6E880\", \"#FF97FF\", \"#FECB52\"], \"font\": {\"color\": \"#2a3f5f\"}, \"geo\": {\"bgcolor\": \"white\", \"lakecolor\": \"white\", \"landcolor\": \"#E5ECF6\", \"showlakes\": true, \"showland\": true, \"subunitcolor\": \"white\"}, \"hoverlabel\": {\"align\": \"left\"}, \"hovermode\": \"closest\", \"mapbox\": {\"style\": \"light\"}, \"paper_bgcolor\": \"white\", \"plot_bgcolor\": \"#E5ECF6\", \"polar\": {\"angularaxis\": {\"gridcolor\": \"white\", \"linecolor\": \"white\", \"ticks\": \"\"}, \"bgcolor\": \"#E5ECF6\", \"radialaxis\": {\"gridcolor\": \"white\", \"linecolor\": \"white\", \"ticks\": \"\"}}, \"scene\": {\"xaxis\": {\"backgroundcolor\": \"#E5ECF6\", \"gridcolor\": \"white\", \"gridwidth\": 2, \"linecolor\": \"white\", \"showbackground\": true, \"ticks\": \"\", \"zerolinecolor\": \"white\"}, \"yaxis\": {\"backgroundcolor\": \"#E5ECF6\", \"gridcolor\": \"white\", \"gridwidth\": 2, \"linecolor\": \"white\", \"showbackground\": true, \"ticks\": \"\", \"zerolinecolor\": \"white\"}, \"zaxis\": {\"backgroundcolor\": \"#E5ECF6\", \"gridcolor\": \"white\", \"gridwidth\": 2, \"linecolor\": \"white\", \"showbackground\": true, \"ticks\": \"\", \"zerolinecolor\": \"white\"}}, \"shapedefaults\": {\"line\": {\"color\": \"#2a3f5f\"}}, \"ternary\": {\"aaxis\": {\"gridcolor\": \"white\", \"linecolor\": \"white\", \"ticks\": \"\"}, \"baxis\": {\"gridcolor\": \"white\", \"linecolor\": \"white\", \"ticks\": \"\"}, \"bgcolor\": \"#E5ECF6\", \"caxis\": {\"gridcolor\": \"white\", \"linecolor\": \"white\", \"ticks\": \"\"}}, \"title\": {\"x\": 0.05}, \"xaxis\": {\"automargin\": true, \"gridcolor\": \"white\", \"linecolor\": \"white\", \"ticks\": \"\", \"title\": {\"standoff\": 15}, \"zerolinecolor\": \"white\", \"zerolinewidth\": 2}, \"yaxis\": {\"automargin\": true, \"gridcolor\": \"white\", \"linecolor\": \"white\", \"ticks\": \"\", \"title\": {\"standoff\": 15}, \"zerolinecolor\": \"white\", \"zerolinewidth\": 2}}}, \"xaxis\": {\"range\": [-1, 107], \"title\": {\"text\": \"Movement\"}}, \"yaxis\": {\"title\": {\"text\": \"Range (%)\"}}},\n",
       "                        {\"responsive\": true}\n",
       "                    ).then(function(){\n",
       "                            \n",
       "var gd = document.getElementById('9142f616-17a7-4e6c-97a6-8001b79d3ea3');\n",
       "var x = new MutationObserver(function (mutations, observer) {{\n",
       "        var display = window.getComputedStyle(gd).display;\n",
       "        if (!display || display === 'none') {{\n",
       "            console.log([gd, 'removed!']);\n",
       "            Plotly.purge(gd);\n",
       "            observer.disconnect();\n",
       "        }}\n",
       "}});\n",
       "\n",
       "// Listen for the removal of the full notebook cells\n",
       "var notebookContainer = gd.closest('#notebook-container');\n",
       "if (notebookContainer) {{\n",
       "    x.observe(notebookContainer, {childList: true});\n",
       "}}\n",
       "\n",
       "// Listen for the clearing of the current output cell\n",
       "var outputEl = gd.closest('.output');\n",
       "if (outputEl) {{\n",
       "    x.observe(outputEl, {childList: true});\n",
       "}}\n",
       "\n",
       "                        })\n",
       "                };\n",
       "                });\n",
       "            </script>\n",
       "        </div>"
      ]
     },
     "metadata": {},
     "output_type": "display_data"
    }
   ],
   "source": [
    "import csv\n",
    "import pandas as pd\n",
    "import chart_studio.plotly as py\n",
    "import plotly.graph_objects as go\n",
    "from plotly.offline import iplot, init_notebook_mode\n",
    "init_notebook_mode(connected=True)\n",
    "import plotly.express as px\n",
    "from IPython.display import Image\n",
    "url = 'https://raw.githubusercontent.com/joshua-ballance/Testing/master/metadata.csv'\n",
    "metadata = pd.read_csv(url, error_bad_lines=False, index_col='Title')\n",
    "url2 = 'https://raw.githubusercontent.com/joshua-ballance/Testing/master/pitchclassprofile.csv'\n",
    "data2 = pd.read_csv(url2, error_bad_lines=False, index_col=0)\n",
    "data2 = data2.iloc[12:13 , :]\n",
    "revisedData = metadata.iloc[:, 8:9]\n",
    "revisedData['Range'] = data2.values.flat\n",
    "revisedData = revisedData.sort_values('Chronological Position')\n",
    "revisedData = revisedData.drop(columns='Chronological Position')\n",
    "cluster1 = revisedData.iloc[0:30, :]\n",
    "cluster2 = revisedData.iloc[30:36, :]\n",
    "cluster3 = revisedData.iloc[36:38, :]\n",
    "cluster4 = revisedData.iloc[38:68, :]\n",
    "cluster5 = revisedData.iloc[68:, :]\n",
    "fig = go.Figure()\n",
    "fig.add_trace(go.Scatter(x = cluster1.index, y = cluster1.values.flat, mode='markers', marker_color='rgb(3,199,45)', name='Cluster 1'))\n",
    "fig.add_trace(go.Scatter(x = cluster2.index, y = cluster2.values.flat, mode='markers', marker_color='rgb(75,0,255)', name='Cluster 2'))\n",
    "fig.add_trace(go.Scatter(x = cluster3.index, y = cluster3.values.flat, mode='markers', marker_color='rgb(255,255,0)', name='Two Anomalies'))\n",
    "fig.add_trace(go.Scatter(x = cluster4.index, y = cluster4.values.flat, mode='markers', marker_color='rgb(0,0,0)', name='Cluster 3'))\n",
    "fig.add_trace(go.Scatter(x = cluster5.index, y = cluster5.values.flat, mode='markers', marker_color='rgb(199,45,3)', name='Cluster 4'))\n",
    "fig.update_layout(xaxis=(dict(title={'text': 'Movement'})))\n",
    "fig.update_layout(yaxis=(dict(title={'text': 'Range (%)'})))\n",
    "fig.update_layout(font=dict(family=\"Times New Roman, monospace\", size=12, color='rgb(0,0,0)'))\n",
    "fig.update_xaxes(range=[-1, 107])\n",
    "fig.show()"
   ]
  }
 ],
 "metadata": {
  "kernelspec": {
   "display_name": "Python 3",
   "language": "python",
   "name": "python3"
  },
  "language_info": {
   "codemirror_mode": {
    "name": "ipython",
    "version": 3
   },
   "file_extension": ".py",
   "mimetype": "text/x-python",
   "name": "python",
   "nbconvert_exporter": "python",
   "pygments_lexer": "ipython3",
   "version": "3.7.4"
  }
 },
 "nbformat": 4,
 "nbformat_minor": 2
}
